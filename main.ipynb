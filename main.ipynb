{
 "cells": [
  {
   "cell_type": "code",
   "execution_count": 1,
   "metadata": {},
   "outputs": [],
   "source": [
    "%matplotlib inline\n",
    "\n",
    "import matplotlib\n",
    "import matplotlib.pyplot as plt\n",
    "\n",
    "import pandas as pd\n",
    "import numpy as np\n",
    "from sklearn.cluster import KMeans"
   ]
  },
  {
   "cell_type": "code",
   "execution_count": 7,
   "metadata": {},
   "outputs": [
    {
     "data": {
      "text/plain": [
       "<module 'preprocess.pipline' from 'D:\\\\Project\\\\Python\\\\household-electricity\\\\preprocess\\\\pipline.py'>"
      ]
     },
     "execution_count": 7,
     "metadata": {},
     "output_type": "execute_result"
    }
   ],
   "source": [
    "# import preprocess.user_load_data as user_load_data\n",
    "import preprocess.pipline as pipline\n",
    "import importlib\n",
    "\n",
    "# importlib.reload(user_load_data)\n",
    "importlib.reload(pipline)"
   ]
  },
  {
   "cell_type": "code",
   "execution_count": 8,
   "metadata": {},
   "outputs": [
    {
     "data": {
      "text/plain": [
       "<module 'preprocess.user_load_data' from 'D:\\\\Project\\\\Python\\\\household-electricity\\\\preprocess\\\\user_load_data.py'>"
      ]
     },
     "execution_count": 8,
     "metadata": {},
     "output_type": "execute_result"
    }
   ],
   "source": [
    "pipline.user_load_data"
   ]
  },
  {
   "cell_type": "code",
   "execution_count": null,
   "metadata": {},
   "outputs": [],
   "source": [
    "# 讀取原始 .csv 檔\n",
    "original_dataSet = pipline.load_original_dataSet()\n",
    "original_dataSet.head()"
   ]
  },
  {
   "cell_type": "code",
   "execution_count": null,
   "metadata": {},
   "outputs": [],
   "source": [
    "# 先做 channelId 0\n",
    "channelId_0_dataSet = pipline.only_use_channelId_0_dataSet()\n",
    "channelId_0_dataSet.info()"
   ]
  },
  {
   "cell_type": "code",
   "execution_count": null,
   "metadata": {},
   "outputs": [],
   "source": [
    "pipline.user_load_data.save_csv(channelId_0_dataSet, 'channelId_0_dataSet.csv')"
   ]
  },
  {
   "cell_type": "code",
   "execution_count": null,
   "metadata": {},
   "outputs": [],
   "source": [
    "# 刪除異常值，因為發現 sensor 本身有問題\n",
    "delete_outliers_dataSet = pipline.delete_outliers_dataSet(channelId_0_dataSet)\n",
    "delete_outliers_dataSet.info()"
   ]
  },
  {
   "cell_type": "code",
   "execution_count": null,
   "metadata": {},
   "outputs": [],
   "source": [
    "pipline.user_load_data.save_csv(delete_outliers_dataSet, 'delete_outliers_dataSet.csv')"
   ]
  },
  {
   "cell_type": "code",
   "execution_count": null,
   "metadata": {},
   "outputs": [],
   "source": [
    "# 以 userId 分類，彙整每個使用者用電資料為每 15 分鐘一筆，w 四捨五入至小數 2 位\n",
    "group_dataSet = pipline.group_dataSet(delete_outliers_dataSet)\n",
    "group_dataSet.head()"
   ]
  },
  {
   "cell_type": "code",
   "execution_count": null,
   "metadata": {},
   "outputs": [],
   "source": [
    "pipline.user_load_data.save_csv(group_dataSet, 'group_dataSet.csv')"
   ]
  },
  {
   "cell_type": "code",
   "execution_count": null,
   "metadata": {},
   "outputs": [],
   "source": [
    "# 彙整與轉置多個使用者的用電資料 (96 期)\n",
    "consolidation_dataSet = pipline.consolidation_dataSet(group_dataSet)\n",
    "consolidation_dataSet.head()"
   ]
  },
  {
   "cell_type": "code",
   "execution_count": null,
   "metadata": {},
   "outputs": [],
   "source": [
    "pipline.user_load_data.save_csv(consolidation_dataSet, 'consolidation_dataSet.csv')"
   ]
  },
  {
   "cell_type": "code",
   "execution_count": null,
   "metadata": {},
   "outputs": [],
   "source": [
    "# 缺值處理\n",
    "fillna_dataSet = pipline.process_na_dataSet(consolidation_dataSet)\n",
    "fillna_dataSet.head()"
   ]
  },
  {
   "cell_type": "code",
   "execution_count": null,
   "metadata": {},
   "outputs": [],
   "source": [
    "pipline.user_load_data.save_csv(fillna_dataSet, 'fillna_dataSet.csv')"
   ]
  },
  {
   "cell_type": "code",
   "execution_count": null,
   "metadata": {},
   "outputs": [],
   "source": [
    "# 計算 最大需量、最大需量、總用電量\n",
    "max_min_sum_w_dataSet = pipline.calc_peroid_max_min_sum_w(fillna_dataSet)\n",
    "max_min_sum_w_dataSet.head()"
   ]
  },
  {
   "cell_type": "code",
   "execution_count": null,
   "metadata": {},
   "outputs": [],
   "source": [
    "pipline.user_load_data.save_csv(max_min_sum_w_dataSet, 'max_min_sum_w_dataSet.csv')"
   ]
  }
 ],
 "metadata": {
  "kernelspec": {
   "display_name": "Python [default]",
   "language": "python",
   "name": "python3"
  },
  "language_info": {
   "codemirror_mode": {
    "name": "ipython",
    "version": 3
   },
   "file_extension": ".py",
   "mimetype": "text/x-python",
   "name": "python",
   "nbconvert_exporter": "python",
   "pygments_lexer": "ipython3",
   "version": "3.5.5"
  }
 },
 "nbformat": 4,
 "nbformat_minor": 2
}
